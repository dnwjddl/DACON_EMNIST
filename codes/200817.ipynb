{
 "cells": [
  {
   "cell_type": "code",
   "execution_count": 1,
   "metadata": {},
   "outputs": [],
   "source": [
    "import numpy as np\n",
    "import pandas as pd\n",
    "train = pd.read_csv('./data/train.csv')\n",
    "test  = pd.read_csv('./data/test.csv')\n",
    "submission = pd.read_csv('./data/submission.csv')"
   ]
  },
  {
   "cell_type": "code",
   "execution_count": 6,
   "metadata": {},
   "outputs": [
    {
     "name": "stdout",
     "output_type": "stream",
     "text": [
      "(2048, 28, 28, 1)\n",
      "(28, 28, 1)\n",
      "(2048, 10)\n"
     ]
    }
   ],
   "source": [
    "#케라스가 내 모델에 맞추기 위해 사용할 수 있는 one-hot 벡터 배열로 바꾸기\n",
    "from keras.utils.np_utils import to_categorical\n",
    "#입력이미지의 shape 이 (batch_size, width, height, n_channels)로 넣어줘야함\n",
    "X_train = (train[[str(i) for i in range(784)]] / 255.).values.reshape(-1, 28, 28, 1)\n",
    "print(X_train.shape)\n",
    "#레이블 준비하기\n",
    "y_train = to_categorical(train['digit'].values)\n",
    "print(X_train[0].shape)\n",
    "#print(len(y_train))\n",
    "print(y_train.shape)"
   ]
  },
  {
   "cell_type": "code",
   "execution_count": 3,
   "metadata": {},
   "outputs": [],
   "source": [
    "from tensorflow.keras.preprocessing.image import ImageDataGenerator\n",
    "# 아마 성능 향상의 가장 큰 요인, 데이터 증강\n",
    "# CREATE MORE IMAGES VIA DATA AUGMENTATION\n",
    "datagen = ImageDataGenerator(\n",
    "        rotation_range=10,  \n",
    "        zoom_range = 0.10,  \n",
    "        width_shift_range=0.1, \n",
    "        height_shift_range=0.1)"
   ]
  },
  {
   "cell_type": "code",
   "execution_count": 7,
   "metadata": {},
   "outputs": [
    {
     "name": "stdout",
     "output_type": "stream",
     "text": [
      "WARNING:tensorflow:From C:\\Users\\woojung\\anaconda3\\lib\\site-packages\\tensorflow\\python\\ops\\init_ops.py:1251: calling VarianceScaling.__init__ (from tensorflow.python.ops.init_ops) with dtype is deprecated and will be removed in a future version.\n",
      "Instructions for updating:\n",
      "Call initializer instance with the dtype argument instead of passing it to the constructor\n",
      "Model: \"sequential\"\n",
      "_________________________________________________________________\n",
      "Layer (type)                 Output Shape              Param #   \n",
      "=================================================================\n",
      "conv2d (Conv2D)              (None, 26, 26, 32)        320       \n",
      "_________________________________________________________________\n",
      "leaky_re_lu (LeakyReLU)      (None, 26, 26, 32)        0         \n",
      "_________________________________________________________________\n",
      "conv2d_1 (Conv2D)            (None, 24, 24, 32)        9248      \n",
      "_________________________________________________________________\n",
      "leaky_re_lu_1 (LeakyReLU)    (None, 24, 24, 32)        0         \n",
      "_________________________________________________________________\n",
      "conv2d_2 (Conv2D)            (None, 12, 12, 32)        25632     \n",
      "_________________________________________________________________\n",
      "dropout (Dropout)            (None, 12, 12, 32)        0         \n",
      "_________________________________________________________________\n",
      "conv2d_3 (Conv2D)            (None, 10, 10, 64)        18496     \n",
      "_________________________________________________________________\n",
      "leaky_re_lu_2 (LeakyReLU)    (None, 10, 10, 64)        0         \n",
      "_________________________________________________________________\n",
      "conv2d_4 (Conv2D)            (None, 8, 8, 64)          36928     \n",
      "_________________________________________________________________\n",
      "leaky_re_lu_3 (LeakyReLU)    (None, 8, 8, 64)          0         \n",
      "_________________________________________________________________\n",
      "conv2d_5 (Conv2D)            (None, 4, 4, 64)          102464    \n",
      "_________________________________________________________________\n",
      "dropout_1 (Dropout)          (None, 4, 4, 64)          0         \n",
      "_________________________________________________________________\n",
      "conv2d_6 (Conv2D)            (None, 1, 1, 128)         131200    \n",
      "_________________________________________________________________\n",
      "leaky_re_lu_4 (LeakyReLU)    (None, 1, 1, 128)         0         \n",
      "_________________________________________________________________\n",
      "flatten (Flatten)            (None, 128)               0         \n",
      "_________________________________________________________________\n",
      "dropout_2 (Dropout)          (None, 128)               0         \n",
      "_________________________________________________________________\n",
      "dense (Dense)                (None, 10)                1290      \n",
      "=================================================================\n",
      "Total params: 325,578\n",
      "Trainable params: 325,578\n",
      "Non-trainable params: 0\n",
      "_________________________________________________________________\n"
     ]
    }
   ],
   "source": [
    "from tensorflow.keras.models import Sequential, Model\n",
    "from tensorflow.keras.layers import (\n",
    "    Conv2D, BatchNormalization, Dropout, MaxPool2D,\n",
    "    Flatten, Dense, Input, Concatenate, LeakyReLU, Add\n",
    ")\n",
    "#from keras.layers import LeakyReLU\n",
    "\n",
    "\n",
    "model = Sequential() #클래스 객체 생성\n",
    "model.add(Conv2D(32, kernel_size = 3, input_shape = (28, 28, 1)))  #26 * 26 * 32\n",
    "model.add(LeakyReLU(alpha=0.1))\n",
    "model.add(Conv2D(32, kernel_size = 3)) # 24 * 24 * 32\n",
    "model.add(LeakyReLU(alpha=0.1))\n",
    "model.add(Conv2D(32, kernel_size = 5, strides=2, padding='same', activation='relu')) #12 * 12 * 32\n",
    "model.add(Dropout(0.4)) \n",
    "\n",
    "model.add(Conv2D(64, kernel_size = 3))# 10 * 10 * 64\n",
    "model.add(LeakyReLU(alpha=0.1))\n",
    "model.add(Conv2D(64, kernel_size = 3)) # 8 * 8 * 64\n",
    "model.add(LeakyReLU(alpha=0.1))\n",
    "model.add(Conv2D(64, kernel_size = 5, strides=2, padding='same', activation='relu')) # 4 * 4 * 64\n",
    "model.add(Dropout(0.4)) \n",
    "\n",
    "model.add(Conv2D(128, kernel_size = 4)) # 1 * 1 * 128\n",
    "model.add(LeakyReLU(alpha=0.1))\n",
    "model.add(Flatten())\n",
    "model.add(Dropout(0.4))\n",
    "model.add(Dense(10, activation='softmax'))\n",
    "\n",
    "model.summary()"
   ]
  },
  {
   "cell_type": "code",
   "execution_count": 4,
   "metadata": {},
   "outputs": [],
   "source": [
    "# COMPILE WITH ADAM OPTIMIZER AND CROSS ENTROPY COST\n",
    "model.compile(optimizer=\"adam\", loss=\"categorical_crossentropy\", metrics=[\"accuracy\"])"
   ]
  },
  {
   "cell_type": "code",
   "execution_count": 6,
   "metadata": {},
   "outputs": [],
   "source": [
    "# 좀 더 빨리 하기 위함\n",
    "from tensorflow.keras.callbacks import LearningRateScheduler\n",
    "# DECREASE LEARNING RATE EACH EPOCH\n",
    "annealer = LearningRateScheduler(lambda x: 1e-3 * 0.95 ** x)"
   ]
  },
  {
   "cell_type": "code",
   "execution_count": 21,
   "metadata": {},
   "outputs": [
    {
     "name": "stdout",
     "output_type": "stream",
     "text": [
      "Train on 1843 samples, validate on 205 samples\n",
      "Epoch 1/45\n",
      "1843/1843 [==============================] - 7s 4ms/sample - loss: 0.8711 - acc: 0.7254 - val_loss: 0.5273 - val_acc: 0.8732\n",
      "Epoch 2/45\n",
      "1843/1843 [==============================] - 9s 5ms/sample - loss: 0.6014 - acc: 0.7878 - val_loss: 0.4172 - val_acc: 0.8683\n",
      "Epoch 3/45\n",
      "1843/1843 [==============================] - 9s 5ms/sample - loss: 0.5047 - acc: 0.8199 - val_loss: 0.5709 - val_acc: 0.8293\n",
      "Epoch 4/45\n",
      "1843/1843 [==============================] - 8s 4ms/sample - loss: 0.3878 - acc: 0.8681 - val_loss: 0.3881 - val_acc: 0.9024\n",
      "Epoch 5/45\n",
      "1843/1843 [==============================] - 8s 4ms/sample - loss: 0.3947 - acc: 0.8540 - val_loss: 0.3566 - val_acc: 0.9122\n",
      "Epoch 6/45\n",
      "1843/1843 [==============================] - 8s 4ms/sample - loss: 0.2958 - acc: 0.8953 - val_loss: 0.3780 - val_acc: 0.8878\n",
      "Epoch 7/45\n",
      "1843/1843 [==============================] - 8s 4ms/sample - loss: 0.2758 - acc: 0.9088 - val_loss: 0.3884 - val_acc: 0.8927\n",
      "Epoch 8/45\n",
      "1843/1843 [==============================] - 8s 4ms/sample - loss: 0.2729 - acc: 0.9121 - val_loss: 0.3238 - val_acc: 0.9073\n",
      "Epoch 9/45\n",
      "1843/1843 [==============================] - 7s 4ms/sample - loss: 0.2222 - acc: 0.9224 - val_loss: 0.3609 - val_acc: 0.9171\n",
      "Epoch 10/45\n",
      "1843/1843 [==============================] - 7s 4ms/sample - loss: 0.2349 - acc: 0.9132 - val_loss: 0.4295 - val_acc: 0.8683\n",
      "Epoch 11/45\n",
      "1843/1843 [==============================] - 7s 4ms/sample - loss: 0.1706 - acc: 0.9381 - val_loss: 0.3418 - val_acc: 0.9073\n",
      "Epoch 12/45\n",
      "1843/1843 [==============================] - 7s 4ms/sample - loss: 0.1468 - acc: 0.9495 - val_loss: 0.2980 - val_acc: 0.9268\n",
      "Epoch 13/45\n",
      "1843/1843 [==============================] - 7s 4ms/sample - loss: 0.1783 - acc: 0.9419 - val_loss: 0.3046 - val_acc: 0.9268\n",
      "Epoch 14/45\n",
      "1843/1843 [==============================] - 8s 4ms/sample - loss: 0.1200 - acc: 0.9533 - val_loss: 0.3490 - val_acc: 0.9220\n",
      "Epoch 15/45\n",
      "1843/1843 [==============================] - 7s 4ms/sample - loss: 0.1448 - acc: 0.9512 - val_loss: 0.3477 - val_acc: 0.9122\n",
      "Epoch 16/45\n",
      "1843/1843 [==============================] - 6s 3ms/sample - loss: 0.1340 - acc: 0.9539 - val_loss: 0.3952 - val_acc: 0.9317\n",
      "Epoch 17/45\n",
      "1843/1843 [==============================] - 7s 4ms/sample - loss: 0.1066 - acc: 0.9604 - val_loss: 0.3647 - val_acc: 0.9268\n",
      "Epoch 18/45\n",
      "1843/1843 [==============================] - 7s 4ms/sample - loss: 0.0870 - acc: 0.9718 - val_loss: 0.4491 - val_acc: 0.9268\n",
      "Epoch 19/45\n",
      "1843/1843 [==============================] - 7s 4ms/sample - loss: 0.1071 - acc: 0.9685 - val_loss: 0.3720 - val_acc: 0.9171\n",
      "Epoch 20/45\n",
      "1843/1843 [==============================] - 9s 5ms/sample - loss: 0.0914 - acc: 0.9669 - val_loss: 0.3876 - val_acc: 0.9171\n",
      "Epoch 21/45\n",
      "1843/1843 [==============================] - 7s 4ms/sample - loss: 0.0706 - acc: 0.9718 - val_loss: 0.4069 - val_acc: 0.9220\n",
      "Epoch 22/45\n",
      "1843/1843 [==============================] - 7s 4ms/sample - loss: 0.1036 - acc: 0.9636 - val_loss: 0.3434 - val_acc: 0.9415\n",
      "Epoch 23/45\n",
      "1843/1843 [==============================] - 8s 4ms/sample - loss: 0.0940 - acc: 0.9723 - val_loss: 0.4098 - val_acc: 0.9122\n",
      "Epoch 24/45\n",
      "1843/1843 [==============================] - 7s 4ms/sample - loss: 0.0696 - acc: 0.9740 - val_loss: 0.4399 - val_acc: 0.9171\n",
      "Epoch 25/45\n",
      "1843/1843 [==============================] - 8s 4ms/sample - loss: 0.0741 - acc: 0.9745 - val_loss: 0.4710 - val_acc: 0.9024\n",
      "Epoch 26/45\n",
      "1843/1843 [==============================] - 8s 4ms/sample - loss: 0.0614 - acc: 0.9772 - val_loss: 0.3749 - val_acc: 0.9268\n",
      "Epoch 27/45\n",
      "1843/1843 [==============================] - 6s 3ms/sample - loss: 0.0450 - acc: 0.9848 - val_loss: 0.4607 - val_acc: 0.9220\n",
      "Epoch 28/45\n",
      "1843/1843 [==============================] - 7s 4ms/sample - loss: 0.0505 - acc: 0.9832 - val_loss: 0.4446 - val_acc: 0.9171\n",
      "Epoch 29/45\n",
      "1843/1843 [==============================] - 6s 3ms/sample - loss: 0.0482 - acc: 0.9832 - val_loss: 0.4492 - val_acc: 0.9171\n",
      "Epoch 30/45\n",
      "1843/1843 [==============================] - 6s 3ms/sample - loss: 0.0424 - acc: 0.9848 - val_loss: 0.4530 - val_acc: 0.9268\n",
      "Epoch 31/45\n",
      "1843/1843 [==============================] - 7s 4ms/sample - loss: 0.0539 - acc: 0.9853 - val_loss: 0.5064 - val_acc: 0.8976\n",
      "Epoch 32/45\n",
      "1843/1843 [==============================] - 8s 4ms/sample - loss: 0.0515 - acc: 0.9843 - val_loss: 0.4752 - val_acc: 0.9073\n",
      "Epoch 33/45\n",
      "1843/1843 [==============================] - 8s 4ms/sample - loss: 0.0336 - acc: 0.9875 - val_loss: 0.5302 - val_acc: 0.9122\n",
      "Epoch 34/45\n",
      "1843/1843 [==============================] - 7s 4ms/sample - loss: 0.0500 - acc: 0.9805 - val_loss: 0.4132 - val_acc: 0.9366\n",
      "Epoch 35/45\n",
      "1843/1843 [==============================] - 6s 3ms/sample - loss: 0.0449 - acc: 0.9859 - val_loss: 0.4249 - val_acc: 0.9268\n",
      "Epoch 36/45\n",
      "1843/1843 [==============================] - ETA: 0s - loss: 0.0476 - acc: 0.984 - 6s 3ms/sample - loss: 0.0476 - acc: 0.9848 - val_loss: 0.5086 - val_acc: 0.9122\n",
      "Epoch 37/45\n",
      "1843/1843 [==============================] - 7s 4ms/sample - loss: 0.0449 - acc: 0.9843 - val_loss: 0.4401 - val_acc: 0.9171\n",
      "Epoch 38/45\n",
      "1843/1843 [==============================] - 7s 4ms/sample - loss: 0.0733 - acc: 0.9745 - val_loss: 0.4409 - val_acc: 0.9268\n",
      "Epoch 39/45\n",
      "1843/1843 [==============================] - 6s 3ms/sample - loss: 0.0359 - acc: 0.9875 - val_loss: 0.4287 - val_acc: 0.9268\n",
      "Epoch 40/45\n",
      "1843/1843 [==============================] - 6s 3ms/sample - loss: 0.0352 - acc: 0.9881 - val_loss: 0.4324 - val_acc: 0.9171\n",
      "Epoch 41/45\n",
      "1843/1843 [==============================] - 6s 3ms/sample - loss: 0.0367 - acc: 0.9897 - val_loss: 0.4901 - val_acc: 0.9220\n",
      "Epoch 42/45\n",
      "1843/1843 [==============================] - 8s 4ms/sample - loss: 0.0286 - acc: 0.9886 - val_loss: 0.4753 - val_acc: 0.9122\n",
      "Epoch 43/45\n",
      "1843/1843 [==============================] - 8s 4ms/sample - loss: 0.0294 - acc: 0.9913 - val_loss: 0.4981 - val_acc: 0.9220\n",
      "Epoch 44/45\n",
      "1843/1843 [==============================] - 7s 4ms/sample - loss: 0.0303 - acc: 0.9875 - val_loss: 0.5105 - val_acc: 0.9171\n",
      "Epoch 45/45\n",
      "1843/1843 [==============================] - 7s 4ms/sample - loss: 0.0428 - acc: 0.9853 - val_loss: 0.4956 - val_acc: 0.9122\n",
      "CNN: Epochs=45, Train accuracy=0.99132, Validation accuracy=0.94146\n"
     ]
    }
   ],
   "source": [
    "from sklearn.model_selection import train_test_split\n",
    "epochs = 45\n",
    "# Train-Test를 9:1로 분리\n",
    "X_train2, X_val2, y_train2, y_val2 = train_test_split(\n",
    "    X_train, y_train, test_size = 0.1)\n",
    "\n",
    "#fit 메서드로 트레이닝 시작\n",
    "hist = model.fit(\n",
    "    X_train2, y_train2, batch_size = 20,\n",
    "    epochs=epochs, \n",
    "    \n",
    "    #steps_per_epoch=X_train2.shape[0]//20,\n",
    "    validation_data=(X_val2, y_val2), \n",
    "    callbacks=[annealer],\n",
    "    verbose=1\n",
    ")\n",
    "print(\n",
    "    f\"CNN: Epochs={epochs:d}, \" +\n",
    "    f\"Train accuracy={max(hist.history['acc']):.5f}, \" +\n",
    "    f\"Validation accuracy={max(hist.history['val_acc']):.5f}\"\n",
    ")"
   ]
  },
  {
   "cell_type": "code",
   "execution_count": null,
   "metadata": {},
   "outputs": [],
   "source": [
    "#fit 메서드로 트레이닝 시작\n",
    "hist = model.fit_generator(\n",
    "    datagen.flow(X_train2, y_train2, batch_size=32),\n",
    "    epochs=epochs, \n",
    "    steps_per_epoch=X_train2.shape[0]//32,\n",
    "    validation_data=(X_val2, y_val2), \n",
    "    callbacks=[annealer], \n",
    "    verbose=1\n",
    ")\n",
    "print(\n",
    "    f\"CNN: Epochs={epochs:d}, \" +\n",
    "    f\"Train accuracy={max(hist.history['acc']):.5f}, \" +\n",
    "    f\"Validation accuracy={max(hist.history['val_acc']):.5f}\"\n",
    ")"
   ]
  },
  {
   "cell_type": "code",
   "execution_count": null,
   "metadata": {},
   "outputs": [],
   "source": [
    "#fit 메서드로 트레이닝 시작\n",
    "hist = model.fit_generator(\n",
    "    datagen.flow(X_train2, y_train2, batch_size=32),\n",
    "    epochs=epochs, \n",
    "    steps_per_epoch=X_train2.shape[0]//32,\n",
    "    validation_data=(X_val2, y_val2), \n",
    "    callbacks=[annealer], \n",
    "    verbose=0\n",
    ")\n",
    "print(\n",
    "    f\"CNN: Epochs={epochs:d}, \" +\n",
    "    f\"Train accuracy={max(hist.history['acc']):.5f}, \" +\n",
    "    f\"Validation accuracy={max(hist.history['val_acc']):.5f}\"\n",
    ")"
   ]
  },
  {
   "cell_type": "code",
   "execution_count": null,
   "metadata": {},
   "outputs": [],
   "source": [
    "#fit 메서드로 트레이닝 시작\n",
    "hist = model.fit_generator(\n",
    "    datagen.flow(X_train2, y_train2, batch_size=32),\n",
    "    epochs=epochs, \n",
    "    steps_per_epoch=X_train2.shape[0]//32,\n",
    "    validation_data=(X_val2, y_val2), \n",
    "    callbacks=[annealer], \n",
    "    verbose=0\n",
    ")\n",
    "print(\n",
    "    f\"CNN: Epochs={epochs:d}, \" +\n",
    "    f\"Train accuracy={max(hist.history['acc']):.5f}, \" +\n",
    "    f\"Validation accuracy={max(hist.history['val_acc']):.5f}\"\n",
    ")"
   ]
  },
  {
   "cell_type": "code",
   "execution_count": null,
   "metadata": {},
   "outputs": [],
   "source": [
    "#fit 메서드로 트레이닝 시작\n",
    "hist = model.fit_generator(\n",
    "    datagen.flow(X_train2, y_train2, batch_size=32),\n",
    "    epochs=epochs, \n",
    "    steps_per_epoch=X_train2.shape[0]//32,\n",
    "    validation_data=(X_val2, y_val2), \n",
    "    callbacks=[annealer], \n",
    "    verbose=0\n",
    ")\n",
    "print(\n",
    "    f\"CNN: Epochs={epochs:d}, \" +\n",
    "    f\"Train accuracy={max(hist.history['acc']):.5f}, \" +\n",
    "    f\"Validation accuracy={max(hist.history['val_acc']):.5f}\"\n",
    ")"
   ]
  },
  {
   "cell_type": "code",
   "execution_count": null,
   "metadata": {},
   "outputs": [],
   "source": [
    "#fit 메서드로 트레이닝 시작\n",
    "hist = model.fit_generator(\n",
    "    datagen.flow(X_train2, y_train2, batch_size=32),\n",
    "    epochs=epochs, \n",
    "    steps_per_epoch=X_train2.shape[0]//32,\n",
    "    validation_data=(X_val2, y_val2), \n",
    "    callbacks=[annealer], \n",
    "    verbose=0\n",
    ")\n",
    "print(\n",
    "    f\"CNN: Epochs={epochs:d}, \" +\n",
    "    f\"Train accuracy={max(hist.history['acc']):.5f}, \" +\n",
    "    f\"Validation accuracy={max(hist.history['val_acc']):.5f}\"\n",
    ")"
   ]
  },
  {
   "cell_type": "code",
   "execution_count": null,
   "metadata": {},
   "outputs": [],
   "source": [
    "# Parameter 및 모델 구조 저장\n",
    "model.save_weights(f'params.h5')\n",
    "    \n",
    "model_json = model.to_json()\n",
    "with open(f\"mode_6Times.json\", \"w\") as json_file : \n",
    "    json_file.write(model_json)"
   ]
  },
  {
   "cell_type": "code",
   "execution_count": null,
   "metadata": {},
   "outputs": [],
   "source": [
    "# 예측 진행\n",
    "X_test = (test[[str(i) for i in range(784)]] / 255.).values.reshape(-1, 28, 28, 1)\n",
    "#results = model.predict(X_test)\n",
    "submission['digit']=np.argmax(model.predict(X_test),axis =1)"
   ]
  },
  {
   "cell_type": "code",
   "execution_count": null,
   "metadata": {},
   "outputs": [],
   "source": [
    "#submission.digit = results\n",
    "submission.to_csv('model_6Times.csv', index=False)"
   ]
  },
  {
   "cell_type": "code",
   "execution_count": null,
   "metadata": {},
   "outputs": [],
   "source": [
    "from tensorflow.keras.models import Sequential, Model\n",
    "from tensorflow.keras.layers import (\n",
    "    Conv2D, BatchNormalization, Dropout, MaxPool2D,\n",
    "    Flatten, Dense, Input, Concatenate, LeakyReLU, Add\n",
    ")\n",
    "#from keras.layers import LeakyReLU\n",
    "\n",
    "\n",
    "model = Sequential() #클래스 객체 생성\n",
    "model.add(Conv2D(32, kernel_size = 3, input_shape = (28, 28, 1), kernel_initializer='he_normal'))  #26 * 26 * 32\n",
    "model.add(LeakyReLU(alpha=0.1))\n",
    "model.add(Conv2D(32, kernel_size = 3,kernel_initializer='he_normal')) # 24 * 24 * 32\n",
    "model.add(LeakyReLU(alpha=0.1))\n",
    "model.add(Conv2D(32, kernel_size = 5, strides=2, padding='same', activation='relu', kernel_initializer='he_normal')) #12 * 12 * 32\n",
    "model.add(Dropout(0.4)) \n",
    "\n",
    "model.add(Conv2D(64, kernel_size = 3,kernel_initializer='he_normal'))# 10 * 10 * 64\n",
    "model.add(LeakyReLU(alpha=0.1))\n",
    "model.add(Conv2D(64, kernel_size = 3,kernel_initializer='he_normal')) # 8 * 8 * 64\n",
    "model.add(LeakyReLU(alpha=0.1))\n",
    "model.add(Conv2D(64, kernel_size = 5, strides=2, padding='same', activation='relu',kernel_initializer='he_normal')) # 4 * 4 * 64\n",
    "model.add(Dropout(0.4)) \n",
    "\n",
    "model.add(Conv2D(128, kernel_size = 4,kernel_initializer='he_normal')) # 1 * 1 * 128\n",
    "model.add(LeakyReLU(alpha=0.1))\n",
    "model.add(Flatten())\n",
    "model.add(Dropout(0.4))\n",
    "model.add(Dense(10, activation='softmax'))"
   ]
  },
  {
   "cell_type": "code",
   "execution_count": 17,
   "metadata": {},
   "outputs": [],
   "source": [
    "# COMPILE WITH ADAM OPTIMIZER AND CROSS ENTROPY COST\n",
    "model.compile(optimizer=\"adam\", loss=\"categorical_crossentropy\", metrics=[\"accuracy\"])"
   ]
  },
  {
   "cell_type": "code",
   "execution_count": 18,
   "metadata": {},
   "outputs": [
    {
     "name": "stdout",
     "output_type": "stream",
     "text": [
      "Model: \"sequential_4\"\n",
      "_________________________________________________________________\n",
      "Layer (type)                 Output Shape              Param #   \n",
      "=================================================================\n",
      "conv2d_28 (Conv2D)           (None, 26, 26, 32)        320       \n",
      "_________________________________________________________________\n",
      "leaky_re_lu_20 (LeakyReLU)   (None, 26, 26, 32)        0         \n",
      "_________________________________________________________________\n",
      "conv2d_29 (Conv2D)           (None, 24, 24, 32)        9248      \n",
      "_________________________________________________________________\n",
      "leaky_re_lu_21 (LeakyReLU)   (None, 24, 24, 32)        0         \n",
      "_________________________________________________________________\n",
      "conv2d_30 (Conv2D)           (None, 12, 12, 32)        25632     \n",
      "_________________________________________________________________\n",
      "dropout_12 (Dropout)         (None, 12, 12, 32)        0         \n",
      "_________________________________________________________________\n",
      "conv2d_31 (Conv2D)           (None, 10, 10, 64)        18496     \n",
      "_________________________________________________________________\n",
      "leaky_re_lu_22 (LeakyReLU)   (None, 10, 10, 64)        0         \n",
      "_________________________________________________________________\n",
      "conv2d_32 (Conv2D)           (None, 8, 8, 64)          36928     \n",
      "_________________________________________________________________\n",
      "leaky_re_lu_23 (LeakyReLU)   (None, 8, 8, 64)          0         \n",
      "_________________________________________________________________\n",
      "conv2d_33 (Conv2D)           (None, 4, 4, 64)          102464    \n",
      "_________________________________________________________________\n",
      "dropout_13 (Dropout)         (None, 4, 4, 64)          0         \n",
      "_________________________________________________________________\n",
      "conv2d_34 (Conv2D)           (None, 1, 1, 128)         131200    \n",
      "_________________________________________________________________\n",
      "leaky_re_lu_24 (LeakyReLU)   (None, 1, 1, 128)         0         \n",
      "_________________________________________________________________\n",
      "flatten_4 (Flatten)          (None, 128)               0         \n",
      "_________________________________________________________________\n",
      "dropout_14 (Dropout)         (None, 128)               0         \n",
      "_________________________________________________________________\n",
      "dense_4 (Dense)              (None, 10)                1290      \n",
      "=================================================================\n",
      "Total params: 325,578\n",
      "Trainable params: 325,578\n",
      "Non-trainable params: 0\n",
      "_________________________________________________________________\n"
     ]
    }
   ],
   "source": [
    "model.summary()"
   ]
  },
  {
   "cell_type": "code",
   "execution_count": 19,
   "metadata": {},
   "outputs": [],
   "source": [
    "# 좀 더 빨리 하기 위함\n",
    "from tensorflow.keras.callbacks import LearningRateScheduler\n",
    "# DECREASE LEARNING RATE EACH EPOCH\n",
    "annealer = LearningRateScheduler(lambda x: 1e-3 * 0.95 ** x)"
   ]
  },
  {
   "cell_type": "code",
   "execution_count": 20,
   "metadata": {},
   "outputs": [
    {
     "name": "stdout",
     "output_type": "stream",
     "text": [
      "CNN: Epochs=45, Train accuracy=0.72281, Validation accuracy=0.80976\n"
     ]
    }
   ],
   "source": [
    "from sklearn.model_selection import train_test_split\n",
    "epochs = 45\n",
    "# Train-Test를 9:1로 분리\n",
    "X_train2, X_val2, y_train2, y_val2 = train_test_split(\n",
    "    X_train, y_train, test_size = 0.1)\n",
    "\n",
    "#fit 메서드로 트레이닝 시작\n",
    "hist = model.fit_generator(\n",
    "    datagen.flow(X_train2, y_train2, batch_size=32),\n",
    "    epochs=epochs, \n",
    "    steps_per_epoch=X_train2.shape[0]//32,\n",
    "    validation_data=(X_val2, y_val2), \n",
    "    callbacks=[annealer], \n",
    "    verbose=0\n",
    ")\n",
    "print(\n",
    "    f\"CNN: Epochs={epochs:d}, \" +\n",
    "    f\"Train accuracy={max(hist.history['acc']):.5f}, \" +\n",
    "    f\"Validation accuracy={max(hist.history['val_acc']):.5f}\"\n",
    ")"
   ]
  },
  {
   "cell_type": "code",
   "execution_count": null,
   "metadata": {},
   "outputs": [],
   "source": [
    "\n"
   ]
  }
 ],
 "metadata": {
  "kernelspec": {
   "display_name": "Python 3",
   "language": "python",
   "name": "python3"
  },
  "language_info": {
   "codemirror_mode": {
    "name": "ipython",
    "version": 3
   },
   "file_extension": ".py",
   "mimetype": "text/x-python",
   "name": "python",
   "nbconvert_exporter": "python",
   "pygments_lexer": "ipython3",
   "version": "3.7.6"
  }
 },
 "nbformat": 4,
 "nbformat_minor": 4
}
