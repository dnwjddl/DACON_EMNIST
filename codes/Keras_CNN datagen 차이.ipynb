{
 "cells": [
  {
   "cell_type": "code",
   "execution_count": 5,
   "metadata": {},
   "outputs": [],
   "source": [
    "import numpy as np\n",
    "import pandas as pd\n",
    "import os\n",
    "import tensorflow as tf\n",
    "import matplotlib.pyplot as plt\n",
    "\n",
    "#load data\n",
    "import data_import as data\n",
    "from sklearn.model_selection import train_test_split\n",
    "from tensorflow.keras.preprocessing.image import ImageDataGenerator\n",
    "\n",
    "#Model for training\n",
    "from tensorflow.keras.models import Sequential, Model\n",
    "from tensorflow.keras.layers import ( \n",
    "    Conv2D, BatchNormalization, Dropout, MaxPool2D, MaxPooling2D,\n",
    "    Flatten, Dense, Input, Concatenate, LeakyReLU, Add\n",
    ")\n",
    "\n",
    "from keras.optimizers import Adam\n",
    "from keras.callbacks import ReduceLROnPlateau\n",
    "\n",
    "import torch\n",
    "import torch.nn as nn\n",
    "import torch.optim as optim\n",
    "import torch.nn.functional as F"
   ]
  },
  {
   "cell_type": "markdown",
   "metadata": {},
   "source": [
    "# Data Load \n",
    "### scaling, preprocessing"
   ]
  },
  {
   "cell_type": "code",
   "execution_count": 6,
   "metadata": {},
   "outputs": [],
   "source": [
    "# load dataset\n",
    "train = pd.read_csv(os.getcwd()+'/data/train.csv')\n",
    "test  = pd.read_csv(os.getcwd()+'/data/test.csv')\n",
    "submission = pd.read_csv(os.getcwd()+'/data/submission.csv')"
   ]
  },
  {
   "cell_type": "code",
   "execution_count": 7,
   "metadata": {},
   "outputs": [
    {
     "data": {
      "text/html": [
       "<div>\n",
       "<style scoped>\n",
       "    .dataframe tbody tr th:only-of-type {\n",
       "        vertical-align: middle;\n",
       "    }\n",
       "\n",
       "    .dataframe tbody tr th {\n",
       "        vertical-align: top;\n",
       "    }\n",
       "\n",
       "    .dataframe thead th {\n",
       "        text-align: right;\n",
       "    }\n",
       "</style>\n",
       "<table border=\"1\" class=\"dataframe\">\n",
       "  <thead>\n",
       "    <tr style=\"text-align: right;\">\n",
       "      <th></th>\n",
       "      <th>id</th>\n",
       "      <th>digit</th>\n",
       "      <th>letter</th>\n",
       "      <th>0</th>\n",
       "      <th>1</th>\n",
       "      <th>2</th>\n",
       "      <th>3</th>\n",
       "      <th>4</th>\n",
       "      <th>5</th>\n",
       "      <th>6</th>\n",
       "      <th>...</th>\n",
       "      <th>774</th>\n",
       "      <th>775</th>\n",
       "      <th>776</th>\n",
       "      <th>777</th>\n",
       "      <th>778</th>\n",
       "      <th>779</th>\n",
       "      <th>780</th>\n",
       "      <th>781</th>\n",
       "      <th>782</th>\n",
       "      <th>783</th>\n",
       "    </tr>\n",
       "  </thead>\n",
       "  <tbody>\n",
       "    <tr>\n",
       "      <th>0</th>\n",
       "      <td>1</td>\n",
       "      <td>5</td>\n",
       "      <td>L</td>\n",
       "      <td>1</td>\n",
       "      <td>1</td>\n",
       "      <td>1</td>\n",
       "      <td>4</td>\n",
       "      <td>3</td>\n",
       "      <td>0</td>\n",
       "      <td>0</td>\n",
       "      <td>...</td>\n",
       "      <td>2</td>\n",
       "      <td>1</td>\n",
       "      <td>0</td>\n",
       "      <td>1</td>\n",
       "      <td>2</td>\n",
       "      <td>4</td>\n",
       "      <td>4</td>\n",
       "      <td>4</td>\n",
       "      <td>3</td>\n",
       "      <td>4</td>\n",
       "    </tr>\n",
       "    <tr>\n",
       "      <th>1</th>\n",
       "      <td>2</td>\n",
       "      <td>0</td>\n",
       "      <td>B</td>\n",
       "      <td>0</td>\n",
       "      <td>4</td>\n",
       "      <td>0</td>\n",
       "      <td>0</td>\n",
       "      <td>4</td>\n",
       "      <td>1</td>\n",
       "      <td>1</td>\n",
       "      <td>...</td>\n",
       "      <td>0</td>\n",
       "      <td>3</td>\n",
       "      <td>0</td>\n",
       "      <td>1</td>\n",
       "      <td>4</td>\n",
       "      <td>1</td>\n",
       "      <td>4</td>\n",
       "      <td>2</td>\n",
       "      <td>1</td>\n",
       "      <td>2</td>\n",
       "    </tr>\n",
       "    <tr>\n",
       "      <th>2</th>\n",
       "      <td>3</td>\n",
       "      <td>4</td>\n",
       "      <td>L</td>\n",
       "      <td>1</td>\n",
       "      <td>1</td>\n",
       "      <td>2</td>\n",
       "      <td>2</td>\n",
       "      <td>1</td>\n",
       "      <td>1</td>\n",
       "      <td>1</td>\n",
       "      <td>...</td>\n",
       "      <td>3</td>\n",
       "      <td>3</td>\n",
       "      <td>3</td>\n",
       "      <td>0</td>\n",
       "      <td>2</td>\n",
       "      <td>0</td>\n",
       "      <td>3</td>\n",
       "      <td>0</td>\n",
       "      <td>2</td>\n",
       "      <td>2</td>\n",
       "    </tr>\n",
       "    <tr>\n",
       "      <th>3</th>\n",
       "      <td>4</td>\n",
       "      <td>9</td>\n",
       "      <td>D</td>\n",
       "      <td>1</td>\n",
       "      <td>2</td>\n",
       "      <td>0</td>\n",
       "      <td>2</td>\n",
       "      <td>0</td>\n",
       "      <td>4</td>\n",
       "      <td>0</td>\n",
       "      <td>...</td>\n",
       "      <td>3</td>\n",
       "      <td>3</td>\n",
       "      <td>2</td>\n",
       "      <td>0</td>\n",
       "      <td>1</td>\n",
       "      <td>4</td>\n",
       "      <td>0</td>\n",
       "      <td>0</td>\n",
       "      <td>1</td>\n",
       "      <td>1</td>\n",
       "    </tr>\n",
       "    <tr>\n",
       "      <th>4</th>\n",
       "      <td>5</td>\n",
       "      <td>6</td>\n",
       "      <td>A</td>\n",
       "      <td>3</td>\n",
       "      <td>0</td>\n",
       "      <td>2</td>\n",
       "      <td>4</td>\n",
       "      <td>0</td>\n",
       "      <td>3</td>\n",
       "      <td>0</td>\n",
       "      <td>...</td>\n",
       "      <td>4</td>\n",
       "      <td>4</td>\n",
       "      <td>3</td>\n",
       "      <td>2</td>\n",
       "      <td>1</td>\n",
       "      <td>3</td>\n",
       "      <td>4</td>\n",
       "      <td>3</td>\n",
       "      <td>1</td>\n",
       "      <td>2</td>\n",
       "    </tr>\n",
       "  </tbody>\n",
       "</table>\n",
       "<p>5 rows × 787 columns</p>\n",
       "</div>"
      ],
      "text/plain": [
       "   id  digit letter  0  1  2  3  4  5  6  ...  774  775  776  777  778  779  \\\n",
       "0   1      5      L  1  1  1  4  3  0  0  ...    2    1    0    1    2    4   \n",
       "1   2      0      B  0  4  0  0  4  1  1  ...    0    3    0    1    4    1   \n",
       "2   3      4      L  1  1  2  2  1  1  1  ...    3    3    3    0    2    0   \n",
       "3   4      9      D  1  2  0  2  0  4  0  ...    3    3    2    0    1    4   \n",
       "4   5      6      A  3  0  2  4  0  3  0  ...    4    4    3    2    1    3   \n",
       "\n",
       "   780  781  782  783  \n",
       "0    4    4    3    4  \n",
       "1    4    2    1    2  \n",
       "2    3    0    2    2  \n",
       "3    0    0    1    1  \n",
       "4    4    3    1    2  \n",
       "\n",
       "[5 rows x 787 columns]"
      ]
     },
     "execution_count": 7,
     "metadata": {},
     "output_type": "execute_result"
    }
   ],
   "source": [
    "train.head()"
   ]
  },
  {
   "cell_type": "code",
   "execution_count": 10,
   "metadata": {},
   "outputs": [
    {
     "name": "stdout",
     "output_type": "stream",
     "text": [
      "(2048, 10)\n"
     ]
    },
    {
     "data": {
      "text/plain": [
       "array([[0., 0., 0., ..., 0., 0., 0.],\n",
       "       [1., 0., 0., ..., 0., 0., 0.],\n",
       "       [0., 0., 0., ..., 0., 0., 0.],\n",
       "       ...,\n",
       "       [0., 0., 0., ..., 0., 0., 1.],\n",
       "       [1., 0., 0., ..., 0., 0., 0.],\n",
       "       [0., 0., 0., ..., 0., 0., 0.]], dtype=float32)"
      ]
     },
     "execution_count": 10,
     "metadata": {},
     "output_type": "execute_result"
    }
   ],
   "source": [
    "#케라스가 내 모델에 맞추기 위해 사용할 수 있는 one-hot 벡터 배열로 바꾸기\n",
    "#입력이미지의 shape 이 (batch_size, width, height, n_channels)로 넣어줘야함\n",
    "from keras.utils.np_utils import to_categorical\n",
    "x_data = (train[[str(i) for i in range(784)]] / 255.).values.reshape(-1, 28, 28, 1)\n",
    "\n",
    "#레이블 준비하기\n",
    "y_data = to_categorical(train['digit'].values)\n",
    "print(y_data.shape)\n",
    "y_data"
   ]
  },
  {
   "cell_type": "markdown",
   "metadata": {},
   "source": [
    "# Data Split & Data Augmentation"
   ]
  },
  {
   "cell_type": "code",
   "execution_count": 39,
   "metadata": {},
   "outputs": [],
   "source": [
    "# 아마 성능 향상의 가장 큰 요인, 데이터 증강\n",
    "# CREATE MORE IMAGES VIA DATA AUGMENTATION\n",
    "datagen = ImageDataGenerator(\n",
    "        rotation_range=10,  \n",
    "        zoom_range = 0.10,  \n",
    "        width_shift_range=0.1, \n",
    "        height_shift_range=0.1)"
   ]
  },
  {
   "cell_type": "code",
   "execution_count": 3,
   "metadata": {},
   "outputs": [
    {
     "ename": "NameError",
     "evalue": "name 'train_test_split' is not defined",
     "output_type": "error",
     "traceback": [
      "\u001b[1;31m---------------------------------------------------------------------------\u001b[0m",
      "\u001b[1;31mNameError\u001b[0m                                 Traceback (most recent call last)",
      "\u001b[1;32m<ipython-input-3-7e9bdf27887c>\u001b[0m in \u001b[0;36m<module>\u001b[1;34m\u001b[0m\n\u001b[1;32m----> 1\u001b[1;33m \u001b[0mx_train\u001b[0m\u001b[1;33m,\u001b[0m \u001b[0mx_val\u001b[0m\u001b[1;33m,\u001b[0m \u001b[0my_train\u001b[0m\u001b[1;33m,\u001b[0m \u001b[0my_val\u001b[0m \u001b[1;33m=\u001b[0m \u001b[0mtrain_test_split\u001b[0m\u001b[1;33m(\u001b[0m\u001b[0mx_data\u001b[0m\u001b[1;33m,\u001b[0m \u001b[0my_data\u001b[0m\u001b[1;33m,\u001b[0m \u001b[0mtest_size\u001b[0m \u001b[1;33m=\u001b[0m \u001b[1;36m0.1\u001b[0m\u001b[1;33m)\u001b[0m\u001b[1;33m\u001b[0m\u001b[1;33m\u001b[0m\u001b[0m\n\u001b[0m\u001b[0;32m      2\u001b[0m \u001b[0mprint\u001b[0m\u001b[1;33m(\u001b[0m\u001b[0mx_train\u001b[0m\u001b[1;33m.\u001b[0m\u001b[0mshape\u001b[0m\u001b[1;33m)\u001b[0m\u001b[1;33m\u001b[0m\u001b[1;33m\u001b[0m\u001b[0m\n\u001b[0;32m      3\u001b[0m \u001b[0mprint\u001b[0m\u001b[1;33m(\u001b[0m\u001b[0mx_val\u001b[0m\u001b[1;33m.\u001b[0m\u001b[0mshape\u001b[0m\u001b[1;33m)\u001b[0m\u001b[1;33m\u001b[0m\u001b[1;33m\u001b[0m\u001b[0m\n\u001b[0;32m      4\u001b[0m \u001b[0mprint\u001b[0m\u001b[1;33m(\u001b[0m\u001b[0my_data\u001b[0m\u001b[1;33m.\u001b[0m\u001b[0mshape\u001b[0m\u001b[1;33m)\u001b[0m\u001b[1;33m\u001b[0m\u001b[1;33m\u001b[0m\u001b[0m\n",
      "\u001b[1;31mNameError\u001b[0m: name 'train_test_split' is not defined"
     ]
    }
   ],
   "source": [
    "x_train, x_val, y_train, y_val = train_test_split(x_data, y_data, test_size = 0.1)\n",
    "print(x_train.shape)\n",
    "print(x_val.shape)\n",
    "print(y_data.shape)"
   ]
  },
  {
   "cell_type": "markdown",
   "metadata": {},
   "source": [
    "# CNN 모델 생성"
   ]
  },
  {
   "cell_type": "code",
   "execution_count": 41,
   "metadata": {},
   "outputs": [
    {
     "name": "stdout",
     "output_type": "stream",
     "text": [
      "Model: \"sequential_3\"\n",
      "_________________________________________________________________\n",
      "Layer (type)                 Output Shape              Param #   \n",
      "=================================================================\n",
      "conv2d_21 (Conv2D)           (None, 26, 26, 32)        320       \n",
      "_________________________________________________________________\n",
      "leaky_re_lu_15 (LeakyReLU)   (None, 26, 26, 32)        0         \n",
      "_________________________________________________________________\n",
      "conv2d_22 (Conv2D)           (None, 24, 24, 32)        9248      \n",
      "_________________________________________________________________\n",
      "leaky_re_lu_16 (LeakyReLU)   (None, 24, 24, 32)        0         \n",
      "_________________________________________________________________\n",
      "conv2d_23 (Conv2D)           (None, 12, 12, 32)        25632     \n",
      "_________________________________________________________________\n",
      "dropout_9 (Dropout)          (None, 12, 12, 32)        0         \n",
      "_________________________________________________________________\n",
      "conv2d_24 (Conv2D)           (None, 10, 10, 64)        18496     \n",
      "_________________________________________________________________\n",
      "leaky_re_lu_17 (LeakyReLU)   (None, 10, 10, 64)        0         \n",
      "_________________________________________________________________\n",
      "conv2d_25 (Conv2D)           (None, 8, 8, 64)          36928     \n",
      "_________________________________________________________________\n",
      "leaky_re_lu_18 (LeakyReLU)   (None, 8, 8, 64)          0         \n",
      "_________________________________________________________________\n",
      "conv2d_26 (Conv2D)           (None, 4, 4, 64)          102464    \n",
      "_________________________________________________________________\n",
      "dropout_10 (Dropout)         (None, 4, 4, 64)          0         \n",
      "_________________________________________________________________\n",
      "conv2d_27 (Conv2D)           (None, 1, 1, 128)         131200    \n",
      "_________________________________________________________________\n",
      "leaky_re_lu_19 (LeakyReLU)   (None, 1, 1, 128)         0         \n",
      "_________________________________________________________________\n",
      "flatten_3 (Flatten)          (None, 128)               0         \n",
      "_________________________________________________________________\n",
      "dropout_11 (Dropout)         (None, 128)               0         \n",
      "_________________________________________________________________\n",
      "dense_3 (Dense)              (None, 10)                1290      \n",
      "=================================================================\n",
      "Total params: 325,578\n",
      "Trainable params: 325,578\n",
      "Non-trainable params: 0\n",
      "_________________________________________________________________\n"
     ]
    }
   ],
   "source": [
    "model = Sequential() #클래스 객체 생성\n",
    "model.add(Conv2D(32, kernel_size = 3, input_shape = (28, 28, 1)))  #26 * 26 * 32\n",
    "model.add(LeakyReLU(alpha=0.1))\n",
    "model.add(Conv2D(32, kernel_size = 3)) # 24 * 24 * 32\n",
    "model.add(LeakyReLU(alpha=0.1))\n",
    "model.add(Conv2D(32, kernel_size = 5, strides=2, padding='same', activation='relu')) #12 * 12 * 32\n",
    "model.add(Dropout(0.4)) \n",
    "\n",
    "model.add(Conv2D(64, kernel_size = 3))# 10 * 10 * 64\n",
    "model.add(LeakyReLU(alpha=0.1))\n",
    "model.add(Conv2D(64, kernel_size = 3)) # 8 * 8 * 64\n",
    "model.add(LeakyReLU(alpha=0.1))\n",
    "model.add(Conv2D(64, kernel_size = 5, strides=2, padding='same', activation='relu')) # 4 * 4 * 64\n",
    "model.add(Dropout(0.4)) \n",
    "\n",
    "model.add(Conv2D(128, kernel_size = 4)) # 1 * 1 * 128\n",
    "model.add(LeakyReLU(alpha=0.1))\n",
    "model.add(Flatten())\n",
    "model.add(Dropout(0.4))\n",
    "model.add(Dense(10, activation='softmax'))\n",
    "\n",
    "\n",
    "model.summary()"
   ]
  },
  {
   "cell_type": "code",
   "execution_count": 42,
   "metadata": {},
   "outputs": [],
   "source": [
    "# COMPILE WITH ADAM OPTIMIZER AND CROSS ENTROPY COST\n",
    "# 모델 학습시키기 이전에, compile 메소드를 통해서 학습방식에 대한 환경 설정\n",
    "# 정규화기(optimizer)\n",
    "# 손실함수(loss function)\n",
    "# 기준 리스트 (metrics) -> 분류 문제에서는 metrics = ['accuracy'] 로 설정\n",
    "model.compile(optimizer=\"adam\", loss=\"categorical_crossentropy\", metrics=[\"accuracy\"])"
   ]
  },
  {
   "cell_type": "code",
   "execution_count": 43,
   "metadata": {},
   "outputs": [],
   "source": [
    "from tensorflow.keras.callbacks import LearningRateScheduler\n",
    "# DECREASE LEARNING RATE EACH EPOCH\n",
    "annealer = LearningRateScheduler(lambda x: 1e-3 * 0.95 ** x)"
   ]
  },
  {
   "cell_type": "markdown",
   "metadata": {},
   "source": [
    "## without datagen"
   ]
  },
  {
   "cell_type": "code",
   "execution_count": 24,
   "metadata": {},
   "outputs": [
    {
     "name": "stdout",
     "output_type": "stream",
     "text": [
      "Epoch 1/45\n",
      "57/57 [==============================] - 184s 3s/step - loss: 1.5657 - acc: 0.4403 - val_loss: 1.1813 - val_acc: 0.5805\n",
      "Epoch 2/45\n",
      "57/57 [==============================] - 190s 3s/step - loss: 0.5734 - acc: 0.7969 - val_loss: 0.9082 - val_acc: 0.7659\n",
      "Epoch 3/45\n",
      "57/57 [==============================] - 193s 3s/step - loss: 0.2097 - acc: 0.9250 - val_loss: 0.9827 - val_acc: 0.7756\n",
      "Epoch 4/45\n",
      "57/57 [==============================] - 189s 3s/step - loss: 0.1056 - acc: 0.9626 - val_loss: 0.9718 - val_acc: 0.8146\n",
      "Epoch 5/45\n",
      "57/57 [==============================] - 189s 3s/step - loss: 0.0675 - acc: 0.9774 - val_loss: 1.0411 - val_acc: 0.8146\n",
      "Epoch 6/45\n",
      "57/57 [==============================] - 190s 3s/step - loss: 0.0488 - acc: 0.9832 - val_loss: 1.1070 - val_acc: 0.7951\n",
      "Epoch 7/45\n",
      "57/57 [==============================] - 191s 3s/step - loss: 0.0375 - acc: 0.9873 - val_loss: 1.0910 - val_acc: 0.8146\n",
      "Epoch 8/45\n",
      "57/57 [==============================] - 197s 3s/step - loss: 0.0298 - acc: 0.9901 - val_loss: 1.1272 - val_acc: 0.8195\n",
      "Epoch 9/45\n",
      "57/57 [==============================] - 200s 4s/step - loss: 0.0267 - acc: 0.9910 - val_loss: 1.1361 - val_acc: 0.8293\n",
      "Epoch 10/45\n",
      "57/57 [==============================] - 195s 3s/step - loss: 0.0218 - acc: 0.9926 - val_loss: 1.2735 - val_acc: 0.8098\n",
      "Epoch 11/45\n",
      "57/57 [==============================] - 205s 4s/step - loss: 0.0206 - acc: 0.9931 - val_loss: 1.2215 - val_acc: 0.8098\n",
      "Epoch 12/45\n",
      "57/57 [==============================] - 238s 4s/step - loss: 0.0182 - acc: 0.9941 - val_loss: 1.1433 - val_acc: 0.8244\n",
      "Epoch 13/45\n",
      "57/57 [==============================] - 314s 6s/step - loss: 0.0158 - acc: 0.9947 - val_loss: 1.0872 - val_acc: 0.8341\n",
      "Epoch 14/45\n",
      "57/57 [==============================] - 229s 4s/step - loss: 0.0146 - acc: 0.9951 - val_loss: 1.2830 - val_acc: 0.8195\n",
      "Epoch 15/45\n",
      "57/57 [==============================] - 233s 4s/step - loss: 0.0135 - acc: 0.9954 - val_loss: 1.1619 - val_acc: 0.8098\n",
      "Epoch 16/45\n",
      "57/57 [==============================] - 215s 4s/step - loss: 0.0130 - acc: 0.9959 - val_loss: 1.1511 - val_acc: 0.8098\n",
      "Epoch 17/45\n",
      "57/57 [==============================] - 195s 3s/step - loss: 0.0109 - acc: 0.9963 - val_loss: 1.2279 - val_acc: 0.8000\n",
      "Epoch 18/45\n",
      "57/57 [==============================] - 191s 3s/step - loss: 0.0109 - acc: 0.9967 - val_loss: 1.1611 - val_acc: 0.8098\n",
      "Epoch 19/45\n",
      "57/57 [==============================] - 190s 3s/step - loss: 0.0088 - acc: 0.9970 - val_loss: 1.2350 - val_acc: 0.8049\n",
      "Epoch 20/45\n",
      "57/57 [==============================] - 189s 3s/step - loss: 0.0089 - acc: 0.9971 - val_loss: 1.3013 - val_acc: 0.8098\n",
      "Epoch 21/45\n",
      "57/57 [==============================] - 191s 3s/step - loss: 0.0087 - acc: 0.9973 - val_loss: 1.2513 - val_acc: 0.8049\n",
      "Epoch 22/45\n",
      "57/57 [==============================] - 189s 3s/step - loss: 0.0083 - acc: 0.9973 - val_loss: 1.2563 - val_acc: 0.8146\n",
      "Epoch 23/45\n",
      "57/57 [==============================] - 189s 3s/step - loss: 0.0087 - acc: 0.9972 - val_loss: 1.2812 - val_acc: 0.8098\n",
      "Epoch 24/45\n",
      "57/57 [==============================] - 195s 3s/step - loss: 0.0074 - acc: 0.9979 - val_loss: 1.3838 - val_acc: 0.8244\n",
      "Epoch 25/45\n",
      "57/57 [==============================] - 189s 3s/step - loss: 0.0075 - acc: 0.9976 - val_loss: 1.2730 - val_acc: 0.8293\n",
      "Epoch 26/45\n",
      "57/57 [==============================] - 191s 3s/step - loss: 0.0071 - acc: 0.9978 - val_loss: 1.2632 - val_acc: 0.8098\n",
      "Epoch 27/45\n",
      "57/57 [==============================] - 198s 3s/step - loss: 0.0058 - acc: 0.9982 - val_loss: 1.3073 - val_acc: 0.8195\n",
      "Epoch 28/45\n",
      "57/57 [==============================] - 191s 3s/step - loss: 0.0058 - acc: 0.9981 - val_loss: 1.4032 - val_acc: 0.8000\n",
      "Epoch 29/45\n",
      "57/57 [==============================] - 193s 3s/step - loss: 0.0057 - acc: 0.9981 - val_loss: 1.4269 - val_acc: 0.8146\n",
      "Epoch 30/45\n",
      "57/57 [==============================] - 189s 3s/step - loss: 0.0061 - acc: 0.9980 - val_loss: 1.4071 - val_acc: 0.8244\n",
      "Epoch 31/45\n",
      "57/57 [==============================] - 190s 3s/step - loss: 0.0052 - acc: 0.9982 - val_loss: 1.4467 - val_acc: 0.7854\n",
      "Epoch 32/45\n",
      "57/57 [==============================] - 190s 3s/step - loss: 0.0053 - acc: 0.9984 - val_loss: 1.3635 - val_acc: 0.8146\n",
      "Epoch 33/45\n",
      "57/57 [==============================] - 188s 3s/step - loss: 0.0052 - acc: 0.9984 - val_loss: 1.3081 - val_acc: 0.8244\n",
      "Epoch 34/45\n",
      "57/57 [==============================] - 192s 3s/step - loss: 0.0051 - acc: 0.9982 - val_loss: 1.3731 - val_acc: 0.8098\n",
      "Epoch 35/45\n",
      "57/57 [==============================] - 201s 4s/step - loss: 0.0054 - acc: 0.9982 - val_loss: 1.4160 - val_acc: 0.8098\n",
      "Epoch 36/45\n",
      "57/57 [==============================] - 191s 3s/step - loss: 0.0042 - acc: 0.9988 - val_loss: 1.2639 - val_acc: 0.8244\n",
      "Epoch 37/45\n",
      "57/57 [==============================] - 190s 3s/step - loss: 0.0044 - acc: 0.9988 - val_loss: 1.4174 - val_acc: 0.8146\n",
      "Epoch 38/45\n",
      "57/57 [==============================] - 190s 3s/step - loss: 0.0043 - acc: 0.9988 - val_loss: 1.3339 - val_acc: 0.8195\n",
      "Epoch 39/45\n",
      "57/57 [==============================] - 189s 3s/step - loss: 0.0046 - acc: 0.9986 - val_loss: 1.3230 - val_acc: 0.8098\n",
      "Epoch 40/45\n",
      "57/57 [==============================] - 190s 3s/step - loss: 0.0041 - acc: 0.9988 - val_loss: 1.3303 - val_acc: 0.8341\n",
      "Epoch 41/45\n",
      "57/57 [==============================] - 190s 3s/step - loss: 0.0045 - acc: 0.9986 - val_loss: 1.2600 - val_acc: 0.8195\n",
      "Epoch 42/45\n",
      "57/57 [==============================] - 145s 3s/step - loss: 0.0036 - acc: 0.9989 - val_loss: 1.3312 - val_acc: 0.8146\n",
      "Epoch 43/45\n",
      "57/57 [==============================] - 153s 3s/step - loss: 0.0033 - acc: 0.9990 - val_loss: 1.4068 - val_acc: 0.8146\n",
      "Epoch 44/45\n",
      "57/57 [==============================] - 149s 3s/step - loss: 0.0038 - acc: 0.9987 - val_loss: 1.4296 - val_acc: 0.8049\n",
      "Epoch 45/45\n",
      "57/57 [==============================] - 157s 3s/step - loss: 0.0035 - acc: 0.9988 - val_loss: 1.4063 - val_acc: 0.8244\n",
      "CNN: Epochs=45, Train accuracy=0.99895, Validation accuracy=0.83415\n"
     ]
    }
   ],
   "source": [
    "epochs = 45\n",
    "#fit 메서드로 트레이닝 시작\n",
    "hist = model.fit(\n",
    "    x_train, y_train, batch_size = 32,\n",
    "    epochs=epochs, \n",
    "    steps_per_epoch=x_train.shape[0]//32,\n",
    "    validation_data=(x_val, y_val), \n",
    "    callbacks=[annealer],\n",
    "    verbose=1\n",
    ")\n",
    "\n",
    "print(\n",
    "    f\"CNN: Epochs={epochs:d}, \" +\n",
    "    f\"Train accuracy={max(hist.history['acc']):.5f}, \" +\n",
    "    f\"Validation accuracy={max(hist.history['val_acc']):.5f}\"\n",
    ")"
   ]
  },
  {
   "cell_type": "code",
   "execution_count": 25,
   "metadata": {},
   "outputs": [
    {
     "data": {
      "image/png": "[encoded data removed]",
      "text/plain": [
       "<Figure size 576x288 with 2 Axes>"
      ]
     },
     "metadata": {
      "needs_background": "light"
     },
     "output_type": "display_data"
    }
   ],
   "source": [
    "#성능 visualize\n",
    "import matplotlib.pyplot as plt \n",
    "plt.figure(figsize=(8, 4))\n",
    "plt.subplot(1, 2, 1)\n",
    "plt.plot(hist.history['loss'])\n",
    "plt.title(\"loss\")\n",
    "plt.subplot(1, 2, 2)\n",
    "plt.title(\"accuracy\")\n",
    "plt.plot(hist.history['acc'], 'b-', label=\"training\")\n",
    "plt.plot(hist.history['val_acc'], 'r:', label=\"validation\")\n",
    "plt.legend()\n",
    "plt.tight_layout()\n",
    "plt.show()"
   ]
  },
  {
   "cell_type": "markdown",
   "metadata": {},
   "source": [
    "## with datagen"
   ]
  },
  {
   "cell_type": "code",
   "execution_count": 26,
   "metadata": {},
   "outputs": [
    {
     "name": "stdout",
     "output_type": "stream",
     "text": [
      "CNN: Epochs=45, Train accuracy=0.77526, Validation accuracy=0.81463\n"
     ]
    }
   ],
   "source": [
    "epochs = 45\n",
    "#fit 메서드로 트레이닝 시작\n",
    "hist = model.fit_generator(\n",
    "    datagen.flow(x_train, y_train, batch_size=32),\n",
    "    epochs=epochs, \n",
    "    steps_per_epoch=x_train.shape[0]//32,\n",
    "    validation_data=(x_val, y_val), \n",
    "    callbacks=[annealer], \n",
    "    verbose=0\n",
    ")\n",
    "\n",
    "print(\n",
    "    f\"CNN: Epochs={epochs:d}, \" +\n",
    "    f\"Train accuracy={max(hist.history['acc']):.5f}, \" +                                   \n",
    "    f\"Validation accuracy={max(hist.history['val_acc']):.5f}\"\n",
    ")"
   ]
  },
  {
   "cell_type": "code",
   "execution_count": 27,
   "metadata": {},
   "outputs": [
    {
     "data": {
      "image/png": "[encoded data removed]",
      "text/plain": [
       "<Figure size 576x288 with 2 Axes>"
      ]
     },
     "metadata": {
      "needs_background": "light"
     },
     "output_type": "display_data"
    }
   ],
   "source": [
    "#성능 visualize\n",
    "import matplotlib.pyplot as plt \n",
    "plt.figure(figsize=(8, 4))\n",
    "plt.subplot(1, 2, 1)\n",
    "plt.plot(hist.history['loss'])\n",
    "plt.title(\"loss\")\n",
    "plt.subplot(1, 2, 2)\n",
    "plt.title(\"accuracy\")\n",
    "plt.plot(hist.history['acc'], 'b-', label=\"training\")\n",
    "plt.plot(hist.history['val_acc'], 'r:', label=\"validation\")\n",
    "plt.legend()\n",
    "plt.tight_layout()\n",
    "plt.show()"
   ]
  },
  {
   "cell_type": "markdown",
   "metadata": {},
   "source": [
    "# 배치 사이즈 수정 (기존 32) 64 수정"
   ]
  },
  {
   "cell_type": "code",
   "execution_count": 1,
   "metadata": {},
   "outputs": [],
   "source": [
    "# epochs = 45\n",
    "# #fit 메서드로 트레이닝 시작\n",
    "# hist = model.fit_generator(\n",
    "#     datagen.flow(x_train, y_train, batch_size=64),\n",
    "#     epochs=epochs, \n",
    "#     steps_per_epoch=x_train.shape[0]//64,\n",
    "#     validation_data=(x_val, y_val), \n",
    "#     callbacks=[annealer], \n",
    "#     verbose=0\n",
    "# )\n",
    "\n",
    "# print(\n",
    "#     f\"CNN: Epochs={epochs:d}, \" +\n",
    "#     f\"Train accuracy={max(hist.history['acc']):.5f}, \" +                                   \n",
    "#     f\"Validation accuracy={max(hist.history['val_acc']):.5f}\"\n",
    "# )"
   ]
  },
  {
   "cell_type": "code",
   "execution_count": 33,
   "metadata": {},
   "outputs": [
    {
     "name": "stdout",
     "output_type": "stream",
     "text": [
      "CNN: Epochs=45, Train accuracy=0.86006, Validation accuracy=0.85366\n"
     ]
    }
   ],
   "source": [
    "epochs = 45\n",
    "#fit 메서드로 트레이닝 시작\n",
    "hist = model.fit_generator(\n",
    "    datagen.flow(x_train, y_train, batch_size=128),\n",
    "    epochs=epochs, \n",
    "    steps_per_epoch=x_train.shape[0]//128,\n",
    "    validation_data=(x_val, y_val), \n",
    "    callbacks=[annealer], \n",
    "    verbose=0\n",
    ")\n",
    "\n",
    "print(\n",
    "    f\"CNN: Epochs={epochs:d}, \" +\n",
    "    f\"Train accuracy={max(hist.history['acc']):.5f}, \" +                                   \n",
    "    f\"Validation accuracy={max(hist.history['val_acc']):.5f}\"\n",
    ")"
   ]
  },
  {
   "cell_type": "code",
   "execution_count": 2,
   "metadata": {},
   "outputs": [],
   "source": [
    "# epochs = 45\n",
    "# #fit 메서드로 트레이닝 시작\n",
    "# hist = model.fit_generator(\n",
    "#     datagen.flow(x_train, y_train, batch_size=256),\n",
    "#     epochs=epochs, \n",
    "#     steps_per_epoch=x_train.shape[0]//256,\n",
    "#     validation_data=(x_val, y_val), \n",
    "#     callbacks=[annealer], \n",
    "#     verbose=0\n",
    "# )\n",
    "\n",
    "# print(\n",
    "#     f\"CNN: Epochs={epochs:d}, \" +\n",
    "#     f\"Train accuracy={max(hist.history['acc']):.5f}, \" +                                   \n",
    "#     f\"Validation accuracy={max(hist.history['val_acc']):.5f}\"\n",
    "# )"
   ]
  },
  {
   "cell_type": "markdown",
   "metadata": {},
   "source": [
    "# LeNet5 모델 생성"
   ]
  },
  {
   "cell_type": "code",
   "execution_count": 56,
   "metadata": {},
   "outputs": [],
   "source": [
    "class LeNet5(Model):\n",
    "    def __init__(self, num_classes):\n",
    "        super(LeNet5, self).__init__()\n",
    "        self.conv1 = Conv2D(6, kernel_size=(5,5), padding='same', activation='relu')\n",
    "        self.conv2 = Conv2D(16, kernel_size=(5,5), activation='relu')\n",
    "        self.max_pool = MaxPooling2D(pool_size=(2,2))\n",
    "        self.flatten = Flatten()\n",
    "        self.dense1 = Dense(120, activation='relu')\n",
    "        self.dense2 = Dense(84, activation='relu')\n",
    "        self.dense3 = Dense(num_classes, activation='softmax')\n",
    "    def call(self, x):\n",
    "        x = self.max_pool(self.conv1(x))\n",
    "        x = self.max_pool(self.conv2(x))\n",
    "        x = self.flatten(x)\n",
    "        x = self.dense3(self.dense2(self.dense1(x)))\n",
    "        return x"
   ]
  },
  {
   "cell_type": "markdown",
   "metadata": {},
   "source": [
    "# ResNet 모델 생성"
   ]
  },
  {
   "cell_type": "code",
   "execution_count": 57,
   "metadata": {},
   "outputs": [],
   "source": [
    "class BasicBlock(nn.Module):\n",
    "    expansion = 1\n",
    "    def __init__(self, in_planes, planes, stride=1):\n",
    "        super(BasicBlock, self).__init__()\n",
    "        self.conv1 = nn.Conv2d(in_planes, planes, kernel_size=3, stride=stride, padding=1, bias=False)\n",
    "        self.bn1 = nn.BatchNorm2d(planes)\n",
    "        self.conv2 = nn.Conv2d(planes, planes, kernel_size=3, stride=1, padding=1, bias=False)\n",
    "        self.bn2 = nn.BatchNorm2d(planes)\n",
    "\n",
    "\n",
    "        self.shortcut = nn.Sequential()\n",
    "        if stride != 1 or in_planes != self.expansion*planes:\n",
    "            self.shortcut = nn.Sequential(\n",
    "               nn.Conv2d(in_planes, self.expansion*planes, kernel_size=1, stride=stride, bias=False),\n",
    "               nn.BatchNorm2d(self.expansion*planes))"
   ]
  },
  {
   "cell_type": "code",
   "execution_count": 58,
   "metadata": {},
   "outputs": [],
   "source": [
    "class ResNet(nn.Module):\n",
    "    def __init__(self, block, num_blocks, num_classes=10):\n",
    "        super(ResNet, self).__init__()\n",
    "        self.in_planes = 64\n",
    "\n",
    "        self.conv1 = nn.Conv2d(3, 64, kernel_size=3, stride=1, padding=1, bias=False)\n",
    "        self.bn1 = nn.BatchNorm2d(64)\n",
    "        self.layer1 = self._make_layer(block, 64, num_blocks[0], stride=1)\n",
    "        self.layer2 = self._make_layer(block, 128, num_blocks[1], stride=2)\n",
    "        self.layer3 = self._make_layer(block, 256, num_blocks[2], stride=2)\n",
    "        self.layer4 = self._make_layer(block, 512, num_blocks[3], stride=2)\n",
    "        self.linear = nn.Linear(512*block.expansion, num_classes)\n",
    "    \n",
    "    def _make_layer(self, block, planes, num_blocks, stride):\n",
    "        strides = [stride] + [1]*(num_blocks-1)\n",
    "        layers = []\n",
    "        for stride in strides:\n",
    "            layers.append(block(self.in_planes, planes, stride))\n",
    "            self.in_planes = planes * block.expansion\n",
    "        return nn.Sequential(*layers)"
   ]
  },
  {
   "cell_type": "code",
   "execution_count": 59,
   "metadata": {},
   "outputs": [],
   "source": [
    "#adam = Adam(lr=5e-4)\n",
    "# COMPILE WITH ADAM OPTIMIZER AND CROSS ENTROPY COST\n",
    "# https://crazyj.tistory.com/153\n",
    "model = LeNet5(num_classes)\n",
    "model.compile(optimizer=\"adam\", loss=\"sparse_categorical_crossentropy\", metrics=[\"accuracy\"])"
   ]
  },
  {
   "cell_type": "code",
   "execution_count": 62,
   "metadata": {},
   "outputs": [
    {
     "name": "stdout",
     "output_type": "stream",
     "text": [
      "WARNING:tensorflow:Entity <bound method LeNet5.call of <__main__.LeNet5 object at 0x000001A29893ED08>> could not be transformed and will be executed as-is. Please report this to the AutgoGraph team. When filing the bug, set the verbosity to 10 (on Linux, `export AUTOGRAPH_VERBOSITY=10`) and attach the full output. Cause: converting <bound method LeNet5.call of <__main__.LeNet5 object at 0x000001A29893ED08>>: AssertionError: Bad argument number for Name: 3, expecting 4\n",
      "WARNING: Entity <bound method LeNet5.call of <__main__.LeNet5 object at 0x000001A29893ED08>> could not be transformed and will be executed as-is. Please report this to the AutgoGraph team. When filing the bug, set the verbosity to 10 (on Linux, `export AUTOGRAPH_VERBOSITY=10`) and attach the full output. Cause: converting <bound method LeNet5.call of <__main__.LeNet5 object at 0x000001A29893ED08>>: AssertionError: Bad argument number for Name: 3, expecting 4\n",
      "Model: \"le_net5_2\"\n",
      "_________________________________________________________________\n",
      "Layer (type)                 Output Shape              Param #   \n",
      "=================================================================\n",
      "conv2d_4 (Conv2D)            multiple                  156       \n",
      "_________________________________________________________________\n",
      "conv2d_5 (Conv2D)            multiple                  2416      \n",
      "_________________________________________________________________\n",
      "max_pooling2d_1 (MaxPooling2 multiple                  0         \n",
      "_________________________________________________________________\n",
      "flatten_1 (Flatten)          multiple                  0         \n",
      "_________________________________________________________________\n",
      "dense_3 (Dense)              multiple                  48120     \n",
      "_________________________________________________________________\n",
      "dense_4 (Dense)              multiple                  10164     \n",
      "_________________________________________________________________\n",
      "dense_5 (Dense)              multiple                  850       \n",
      "=================================================================\n",
      "Total params: 61,706\n",
      "Trainable params: 61,706\n",
      "Non-trainable params: 0\n",
      "_________________________________________________________________\n"
     ]
    }
   ],
   "source": [
    "_ = model.predict(x_val[:10])\n",
    "model.summary()"
   ]
  },
  {
   "cell_type": "code",
   "execution_count": 61,
   "metadata": {},
   "outputs": [],
   "source": [
    "# Set a learning rate annealer\n",
    "reduce_lr = ReduceLROnPlateau(monitor='val_accuracy', \n",
    "                                patience=3, \n",
    "                                verbose=1, \n",
    "                                factor=0.2, \n",
    "                                min_lr=1e-6)"
   ]
  },
  {
   "cell_type": "code",
   "execution_count": 63,
   "metadata": {},
   "outputs": [],
   "source": [
    "callbacks = [\n",
    "    tf.keras.callbacks.EarlyStopping(patience=3, monitor='val_loss'),\n",
    "    tf.keras.callbacks.TensorBoard(log_dir='logs', histogram_freq=1, write_graph=True),\n",
    "]"
   ]
  },
  {
   "cell_type": "code",
   "execution_count": null,
   "metadata": {},
   "outputs": [],
   "source": [
    "from sklearn.model_selection import train_test_split\n",
    "epochs = 45\n",
    "# Train-Test를 9:1로 분리\n",
    "X_train2, X_val2, y_train2, y_val2 = train_test_split(\n",
    "    X_train, y_train, test_size = 0.1)\n",
    "\n",
    "#fit 메서드로 트레이닝 시작\n",
    "hist = model.fit(\n",
    "    X_train2, y_train2, batch_size = 20,\n",
    "    epochs=epochs, \n",
    "    \n",
    "    #steps_per_epoch=X_train2.shape[0]//20,\n",
    "    validation_data=(X_val2, y_val2), \n",
    "    callbacks=[annealer],\n",
    "    verbose=1\n",
    ")\n",
    "print(\n",
    "    f\"CNN: Epochs={epochs:d}, \" +\n",
    "    f\"Train accuracy={max(hist.history['acc']):.5f}, \" +\n",
    "    f\"Validation accuracy={max(hist.history['val_acc']):.5f}\"\n",
    ")"
   ]
  },
  {
   "cell_type": "code",
   "execution_count": 64,
   "metadata": {},
   "outputs": [
    {
     "name": "stdout",
     "output_type": "stream",
     "text": [
      "Train on 1638 samples, validate on 410 samples\n",
      "Epoch 1/80\n",
      "1638/1638 [==============================] - 2s 1ms/sample - loss: 2.2506 - acc: 0.1673 - val_loss: 2.1464 - val_acc: 0.1805\n",
      "Epoch 2/80\n",
      "1638/1638 [==============================] - 1s 850us/sample - loss: 2.0218 - acc: 0.2558 - val_loss: 1.9652 - val_acc: 0.2829\n",
      "Epoch 3/80\n",
      "1638/1638 [==============================] - 1s 735us/sample - loss: 1.8397 - acc: 0.3443 - val_loss: 1.8030 - val_acc: 0.3537\n",
      "Epoch 4/80\n",
      "1638/1638 [==============================] - 1s 800us/sample - loss: 1.6670 - acc: 0.4176 - val_loss: 1.7079 - val_acc: 0.3878\n",
      "Epoch 5/80\n",
      "1638/1638 [==============================] - 1s 762us/sample - loss: 1.5201 - acc: 0.4707 - val_loss: 1.6458 - val_acc: 0.4122\n",
      "Epoch 6/80\n",
      "1638/1638 [==============================] - 1s 760us/sample - loss: 1.4171 - acc: 0.4988 - val_loss: 1.5197 - val_acc: 0.4634\n",
      "Epoch 7/80\n",
      "1638/1638 [==============================] - 1s 819us/sample - loss: 1.3033 - acc: 0.5464 - val_loss: 1.4999 - val_acc: 0.4537\n",
      "Epoch 8/80\n",
      "1638/1638 [==============================] - 1s 760us/sample - loss: 1.2063 - acc: 0.5879 - val_loss: 1.4453 - val_acc: 0.5000\n",
      "Epoch 9/80\n",
      "1638/1638 [==============================] - 1s 575us/sample - loss: 1.1327 - acc: 0.6081 - val_loss: 1.5035 - val_acc: 0.4829\n",
      "Epoch 10/80\n",
      "1638/1638 [==============================] - 1s 518us/sample - loss: 1.0397 - acc: 0.6386 - val_loss: 1.4911 - val_acc: 0.4805\n",
      "Epoch 11/80\n",
      "1638/1638 [==============================] - 1s 496us/sample - loss: 0.9381 - acc: 0.6832 - val_loss: 1.4991 - val_acc: 0.5000\n"
     ]
    }
   ],
   "source": [
    "history = model.fit(x_train, y_train, batch_size=32, epochs=80,\n",
    "          validation_data=(x_val, y_val), verbose=1, callbacks = callbacks)"
   ]
  },
  {
   "cell_type": "markdown",
   "metadata": {},
   "source": [
    "# ResNet with Transfer Learning"
   ]
  },
  {
   "cell_type": "code",
   "execution_count": 79,
   "metadata": {},
   "outputs": [],
   "source": [
    "#from torchvision import datasets, transforms\n",
    "#model_resnet=models.resnet50(pretrained=True)"
   ]
  },
  {
   "cell_type": "code",
   "execution_count": 91,
   "metadata": {},
   "outputs": [
    {
     "name": "stdout",
     "output_type": "stream",
     "text": [
      "(1638, 28, 28, 1)\n"
     ]
    }
   ],
   "source": [
    "print(x_train.shape)"
   ]
  },
  {
   "cell_type": "code",
   "execution_count": 77,
   "metadata": {},
   "outputs": [],
   "source": [
    "#change the first layer\n",
    "num_ftrs = model_resnet.fc.in_features\n",
    "model_resnet.fc = nn.Linear(num_ftrs,10)"
   ]
  },
  {
   "cell_type": "code",
   "execution_count": 83,
   "metadata": {},
   "outputs": [],
   "source": [
    "model = models.resnet18(pretrained =False)\n",
    "num_ftrs = model.fc.in_features\n",
    "model.fc = nn.Linear(num_ftrs, 2)"
   ]
  },
  {
   "cell_type": "code",
   "execution_count": 84,
   "metadata": {},
   "outputs": [],
   "source": [
    "optimizer = optim.Adam(model.parameters(), lr = 0.0001)"
   ]
  },
  {
   "cell_type": "code",
   "execution_count": 92,
   "metadata": {},
   "outputs": [],
   "source": [
    "def train(model, train_loader,target optimizer, epoch):\n",
    "    model.train()\n",
    "    for batch_idx, data in enumerate(train_loader):\n",
    "        #data, target = data.to(DEVICE), target.to(DEVICE)\n",
    "        optimizer.zero_grad()\n",
    "        output = model(data[batch_idx])\n",
    "        loss = F.cross_entropy(output, target)\n",
    "        loss.backward()\n",
    "        optimizer.step()\n",
    "        \n",
    "        if batch_idx % 10 == 0:\n",
    "            print(\"Train Epoch: {} [{}/{} ({:.0f}%)]\\tLoss: {:.6f}\".format(\n",
    "                epoch, \n",
    "                batch_idx * len(data), \n",
    "                len(train_loader.dataset), \n",
    "                100. * batch_idx / len(train_loader), \n",
    "                loss.item()))"
   ]
  },
  {
   "cell_type": "code",
   "execution_count": 87,
   "metadata": {},
   "outputs": [],
   "source": [
    "def evaluate(model, test_loader):\n",
    "    model.eval()\n",
    "    test_loss = 0\n",
    "    correct = 0\n",
    "    with torch.no_grad():\n",
    "        for data, target in test_loader:\n",
    "            data, target = data.to(DEVICE), target.to(DEVICE)\n",
    "            output = model(data)\n",
    "            test_loss += F.cross_entropy(output, target, reduction=\"sum\").item()\n",
    "            prediction = output.max(1, keepdim = True)[1]\n",
    "            correct += prediction.eq(target.view_as(prediction)).sum().item()\n",
    "            \n",
    "    test_loss /= len(test_loader.dataset)\n",
    "    test_accuracy = 100. * correct / len(test_loader.dataset)\n",
    "    return test_loss, test_accuracy"
   ]
  },
  {
   "cell_type": "code",
   "execution_count": null,
   "metadata": {},
   "outputs": [],
   "source": []
  }
 ],
 "metadata": {
  "kernelspec": {
   "display_name": "Python 3",
   "language": "python",
   "name": "python3"
  },
  "language_info": {
   "codemirror_mode": {
    "name": "ipython",
    "version": 3
   },
   "file_extension": ".py",
   "mimetype": "text/x-python",
   "name": "python",
   "nbconvert_exporter": "python",
   "pygments_lexer": "ipython3",
   "version": "3.7.6"
  }
 },
 "nbformat": 4,
 "nbformat_minor": 4
}
